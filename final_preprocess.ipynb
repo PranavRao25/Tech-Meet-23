{
  "nbformat": 4,
  "nbformat_minor": 0,
  "metadata": {
    "colab": {
      "provenance": []
    },
    "kernelspec": {
      "name": "python3",
      "display_name": "Python 3"
    },
    "language_info": {
      "name": "python"
    }
  },
  "cells": [
    {
      "cell_type": "code",
      "source": [
        "!pip install pandas\n",
        "!pip install cplex\n",
        "!pip install datetime"
      ],
      "metadata": {
        "colab": {
          "base_uri": "https://localhost:8080/"
        },
        "id": "_FwpfeR30337",
        "outputId": "21d3f958-a9f7-4b66-f568-8b3a0d839ab6"
      },
      "execution_count": 1,
      "outputs": [
        {
          "output_type": "stream",
          "name": "stdout",
          "text": [
            "Requirement already satisfied: pandas in /usr/local/lib/python3.10/dist-packages (1.5.3)\n",
            "Requirement already satisfied: python-dateutil>=2.8.1 in /usr/local/lib/python3.10/dist-packages (from pandas) (2.8.2)\n",
            "Requirement already satisfied: pytz>=2020.1 in /usr/local/lib/python3.10/dist-packages (from pandas) (2023.3.post1)\n",
            "Requirement already satisfied: numpy>=1.21.0 in /usr/local/lib/python3.10/dist-packages (from pandas) (1.23.5)\n",
            "Requirement already satisfied: six>=1.5 in /usr/local/lib/python3.10/dist-packages (from python-dateutil>=2.8.1->pandas) (1.16.0)\n",
            "Requirement already satisfied: cplex in /usr/local/lib/python3.10/dist-packages (22.1.1.0)\n",
            "Requirement already satisfied: datetime in /usr/local/lib/python3.10/dist-packages (5.3)\n",
            "Requirement already satisfied: zope.interface in /usr/local/lib/python3.10/dist-packages (from datetime) (6.1)\n",
            "Requirement already satisfied: pytz in /usr/local/lib/python3.10/dist-packages (from datetime) (2023.3.post1)\n",
            "Requirement already satisfied: setuptools in /usr/local/lib/python3.10/dist-packages (from zope.interface->datetime) (67.7.2)\n"
          ]
        }
      ]
    },
    {
      "cell_type": "code",
      "source": [
        "# __________________________________ ALL REQUIRED IMPORTS __________________________________\n",
        "\n",
        "import sqlite3\n",
        "import pandas as pd\n",
        "from datetime import datetime"
      ],
      "metadata": {
        "id": "u_0rSYYw6cb1"
      },
      "execution_count": 2,
      "outputs": []
    },
    {
      "cell_type": "code",
      "source": [
        "# __________________________________ LOADING DATA INTO A DATABASE __________________________________\n",
        "\n",
        "# URLs for data sources\n",
        "DATA_URLS = {\n",
        "\n",
        "    \"inventory\": \"https://raw.githubusercontent.com/team79interiit/qcc_data_files/main/inv.csv\",\n",
        "    \"schedule\": \"https://raw.githubusercontent.com/team79interiit/qcc_data_files/main/sch.csv\",\n",
        "    \"pnr_booking\": \"https://raw.githubusercontent.com/team79interiit/qcc_data_files/main/pnrb.csv\",\n",
        "    \"pnr_passenger\": \"https://raw.githubusercontent.com/team79interiit/qcc_data_files/main/pnrp.csv\",\n",
        "    \"pnr_booking_template\": \"https://raw.githubusercontent.com/team79interiit/qcc_data_files/main/booking_template.csv\",\n",
        "\n",
        "}\n",
        "\n",
        "DATABASE = \"data.db\""
      ],
      "metadata": {
        "id": "rITNAzuU7U4x"
      },
      "execution_count": 3,
      "outputs": []
    },
    {
      "cell_type": "code",
      "source": [
        "# Function to load data from URLs into dataframes\n",
        "def load_data(data_urls=dict()):\n",
        "\n",
        "    data_frames = {}\n",
        "\n",
        "    for key, url in data_urls.items():\n",
        "\n",
        "        data_frames[key] = pd.read_csv(url)\n",
        "\n",
        "    return data_frames"
      ],
      "metadata": {
        "id": "L4TMcfK9dKko"
      },
      "execution_count": 4,
      "outputs": []
    },
    {
      "cell_type": "code",
      "source": [
        "# Function to add a DataFrame as a table to a SQLite database\n",
        "def add_table_to_database(dataframe, tablename=''):\n",
        "\n",
        "    try:\n",
        "\n",
        "        # Establish connection to SQLite database\n",
        "        connection = sqlite3.connect(DATABASE)\n",
        "\n",
        "        # Add DataFrame as a table to the database\n",
        "        dataframe.to_sql(tablename, connection, if_exists='fail', index=False)\n",
        "        print(f\"Table '{tablename}' added to the database.\")\n",
        "\n",
        "    except Exception as e:\n",
        "\n",
        "        # Handle case where table already exists in the database\n",
        "        print(f\"{e}\")\n",
        "\n",
        "    finally:\n",
        "\n",
        "        # Ensure the connection is closed after operations\n",
        "        connection.commit()\n",
        "        connection.close()"
      ],
      "metadata": {
        "id": "TprhXecNdLYe"
      },
      "execution_count": 5,
      "outputs": []
    },
    {
      "cell_type": "code",
      "source": [
        "# Load data frames from URLs\n",
        "data_frames = load_data(DATA_URLS)\n",
        "\n",
        "# Select specific tables to add to the database\n",
        "tables_to_add = {\n",
        "\n",
        "    'inv': data_frames['inventory'],\n",
        "    'pnrb': data_frames['pnr_booking'],\n",
        "    'pnrp': data_frames['pnr_passenger'],\n",
        "}\n",
        "\n",
        "# Add selected tables to the database\n",
        "for table_name, df in tables_to_add.items():\n",
        "  add_table_to_database(df, table_name)"
      ],
      "metadata": {
        "colab": {
          "base_uri": "https://localhost:8080/"
        },
        "id": "KYcbLKagdLpZ",
        "outputId": "d8457ee3-d778-4fb6-9867-37fcc3887d2a"
      },
      "execution_count": 6,
      "outputs": [
        {
          "output_type": "stream",
          "name": "stdout",
          "text": [
            "Table 'inv' already exists.\n",
            "Table 'pnrb' already exists.\n",
            "Table 'pnrp' already exists.\n"
          ]
        }
      ]
    },
    {
      "cell_type": "code",
      "source": [
        "#  ___________________ WE ARE ASSUMING THAT THE FOLLOWING MINIMAL INFO IS GIVEN ON CHANGES IN SCHEDULE ______________\n",
        "\n",
        "# Define constants for types of changes\n",
        "CANCELLED = \"Cancelled\"\n",
        "DELAYED = \"Delayed\"\n",
        "\n",
        "# List of available types of changes\n",
        "type_of_changes = [CANCELLED, DELAYED]\n",
        "\n",
        "# Information about changes in flight schedules\n",
        "changes = [\n",
        "    {\n",
        "        \"Flight Number\": 2504,\n",
        "        \"Departure Date\": '4/3/2024',\n",
        "        \"Type of change\": CANCELLED,\n",
        "    },\n",
        "    {\n",
        "        \"Flight Number\": 3723,\n",
        "        \"Departure Date\": \"04/07/2024\",\n",
        "        \"Type of change\": DELAYED,\n",
        "        \"New Departure Date Time\": \"2024-05-05 11:52:00\",\n",
        "        \"New Arrival Date Time\": \"2024-05-05 20:30:00\",\n",
        "    }\n",
        "]\n",
        "\n",
        "# Since the date & time in database are inconsistent we are using a global data structre to keep track of format while writing code\n",
        "FORMATS = {\n",
        "    \"inv\":[{\n",
        "        \"DepartureDate\" : \"%m/%d/%Y\",\n",
        "        \"DepartureDateTime\": \"%Y-%m-%d %H:%M:%S\",\n",
        "        \"ArrivalDateTime\": \"%Y-%m-%d %H:%M:%S\",\n",
        "    }, True], # True indicates that there is 0 infront of single digit numbers in dates\n",
        "\n",
        "    \"pnrb\":[{\n",
        "        \"DEP_DT\" : \"%m/%d/%Y\",\n",
        "        \"DEP_DTML\" : \"%m/%d/%Y %H:%M\",\n",
        "        \"ARR_DTML\": \"%m/%d/%Y %H:%M\",\n",
        "        \"DEP_DTMZ\": \"%m/%d/%Y %H:%M\",\n",
        "        \"ARR_DTMZ\": \"%m/%d/%Y %H:%M\",\n",
        "    }, False], # False indicates that there is no 0 infront of single digit numbers in dates\n",
        "}"
      ],
      "metadata": {
        "id": "QW40zdQh1BPG"
      },
      "execution_count": 7,
      "outputs": []
    },
    {
      "cell_type": "code",
      "source": [
        "def search_for_affected_flight_inv(flight_number, departure_date):\n",
        "\n",
        "  connection = sqlite3.connect(DATABASE)\n",
        "  cursor = connection.cursor()\n",
        "\n",
        "  sql_search_query = '''\n",
        "  SELECT * FROM inv\n",
        "  WHERE FlightNumber = ? and DepartureDate = ?;\n",
        "  '''\n",
        "\n",
        "  # The following code will make sure the departure_date is in correct format & also adds 0's if single digit date\n",
        "  try:\n",
        "    departure_date = datetime.strptime(departure_date, \"%m/%d/%Y\").strftime(\"%m/%d/%Y\")\n",
        "  except Exception as e:\n",
        "    print(\"departure date is not in %m/%d/%Y format\")\n",
        "\n",
        "  cursor.execute(sql_search_query,(flight_number, departure_date))\n",
        "  results = cursor.fetchall()\n",
        "\n",
        "  connection.commit()\n",
        "  connection.close()\n",
        "  return results"
      ],
      "metadata": {
        "id": "Z-4oL4wYZ52q"
      },
      "execution_count": 8,
      "outputs": []
    },
    {
      "cell_type": "code",
      "source": [
        "def search_for_affected_pnrb(flight_number, departure_date):\n",
        "\n",
        "    connection = sqlite3.connect(DATABASE)\n",
        "    cursor = connection.cursor()\n",
        "\n",
        "    sql_search_query = '''\n",
        "    SELECT * FROM pnrb\n",
        "    WHERE FLT_NUM = ? AND DEP_DT = ?;\n",
        "    '''\n",
        "\n",
        "    # Attempt to convert departure_date to the correct format\n",
        "    try:\n",
        "        departure_date = datetime.strptime(departure_date, \"%m/%d/%Y\").strftime(\"%m/%d/%Y\")\n",
        "    except Exception as e:\n",
        "        print(\"Departure date is not in the format %m/%d/%Y.\")\n",
        "\n",
        "    # Remove leading zeros from single-digit days or months\n",
        "    departure_date_parts = departure_date.split('/')\n",
        "    departure_date = '/'.join(str(int(part)) for part in departure_date_parts)\n",
        "\n",
        "    cursor.execute(sql_search_query, (flight_number, departure_date))\n",
        "    results = cursor.fetchall()\n",
        "\n",
        "    connection.commit()\n",
        "    connection.close()\n",
        "    return results"
      ],
      "metadata": {
        "id": "Gp3WssgSZ6IX"
      },
      "execution_count": 9,
      "outputs": []
    },
    {
      "cell_type": "code",
      "source": [
        "def update_inv_with_newdatetime (new_dept_time='', new_arr_time='', inv_id=''):\n",
        "\n",
        "    connection = sqlite3.connect(DATABASE)\n",
        "    cursor = connection.cursor()\n",
        "\n",
        "    # Using parameterized query to avoid SQL injection\n",
        "    sql_update_query = '''\n",
        "    UPDATE inv\n",
        "    SET \"DepartureDateTime\" = ?, \"ArrivalDateTime\" = ?\n",
        "    WHERE InventoryId = ? '''\n",
        "\n",
        "    # Attempt to convert departure_date to the correct format\n",
        "    try:\n",
        "\n",
        "        new_dept_time = datetime.strptime(new_dept_time, \"%Y-%m-%d %H:%M:%S\").strftime(\"%Y-%m-%d %H:%M:%S\")\n",
        "\n",
        "    except Exception as e:\n",
        "\n",
        "        print(\"new_dept_time is not in the format %Y-%m-%d %H:%M:%S\")\n",
        "\n",
        "    # Attempt to convert departure_date to the correct format\n",
        "    try:\n",
        "\n",
        "        new_arr_time = datetime.strptime(new_arr_time, \"%Y-%m-%d %H:%M:%S\").strftime(\"%Y-%m-%d %H:%M:%S\")\n",
        "\n",
        "    except Exception as e:\n",
        "\n",
        "        print(\"new_arr_time is not in the format %Y-%m-%d %H:%M:%S\")\n",
        "\n",
        "    # Tuple of values to be substituted into the query\n",
        "    values = (new_dept_time, new_arr_time, inv_id)\n",
        "\n",
        "    cursor.execute(sql_update_query, values)\n",
        "    connection.commit()\n",
        "    connection.close()"
      ],
      "metadata": {
        "id": "2kQHuGAvZ6mG"
      },
      "execution_count": 10,
      "outputs": []
    },
    {
      "cell_type": "code",
      "source": [
        "def add_affected_passengers_to_database(inventory_id, flight_number, departure_date):\n",
        "\n",
        "  pnr_booking_template_df = pd.read_csv(DATA_URLS[\"pnr_booking_template\"])\n",
        "  connection = sqlite3.connect(DATABASE)\n",
        "  cursor = connection.cursor()\n",
        "\n",
        "  # Identify the affected passengers and pass it on to post process\n",
        "  # Step 1 : Create a table with Inventory Id of the affected flight as table name\n",
        "  try:\n",
        "\n",
        "    table_name = inventory_id.replace('-','_')\n",
        "    pnr_booking_template_df.to_sql(table_name, connection, if_exists='replace', index=False)\n",
        "\n",
        "    # Step 2 : Add the affected passengers to the table\n",
        "    affected_pnrs = search_for_affected_pnrb(flight_number, departure_date)\n",
        "\n",
        "    for pnr in affected_pnrs:\n",
        "\n",
        "      insert_data_query = f'''\n",
        "      INSERT INTO  {table_name}\n",
        "      VALUES {pnr}\n",
        "      '''\n",
        "      cursor.execute(insert_data_query)\n",
        "\n",
        "  except Exception as e:\n",
        "\n",
        "    print(f\"HURRAY! -- The passengers of the flight on this Inventory entry are already identified | {e} \")\n",
        "\n",
        "  connection.commit()\n",
        "  connection.close()\n",
        "  return"
      ],
      "metadata": {
        "id": "ZGBa7XtnZ68v"
      },
      "execution_count": 11,
      "outputs": []
    },
    {
      "cell_type": "code",
      "source": [
        "affected_flights = dict()\n",
        "\n",
        "for change in changes:\n",
        "\n",
        "  flight_number = change[\"Flight Number\"]\n",
        "  departure_date = change[\"Departure Date\"]\n",
        "  type_of_change = change[\"Type of change\"]\n",
        "\n",
        "  search_result = search_for_affected_flight_inv(flight_number, departure_date)\n",
        "\n",
        "  if search_result == []:\n",
        "\n",
        "    print(f\" OOPS! ----- No Inventory entry exists for the given change : {change} ------ \")\n",
        "    continue\n",
        "\n",
        "  search_result = search_result[0]\n",
        "\n",
        "  # Preparing to handling the change in schedule\n",
        "  # dictionary to pass the information to the quantum solver\n",
        "\n",
        "  inventory_id = search_result[0]\n",
        "\n",
        "  if type_of_change in type_of_changes:\n",
        "\n",
        "    add_affected_passengers_to_database(inventory_id, flight_number, departure_date)\n",
        "\n",
        "    if type_of_change == CANCELLED:\n",
        "\n",
        "      affected_flights[inventory_id] = type_of_change\n",
        "\n",
        "    elif type_of_change == DELAYED:\n",
        "\n",
        "      affected_flights[inventory_id] = type_of_change\n",
        "\n",
        "      new_departure_date_time = change[\"New Departure Date Time\"]\n",
        "      new_arrival_date_time = change[\"New Arrival Date Time\"]\n",
        "\n",
        "      update_inv_with_newdatetime(new_departure_date_time, new_arrival_date_time, inventory_id)\n",
        "\n",
        "    else:\n",
        "\n",
        "      print(f\"----- Unidentified type of change : {type_of_change} ------\")\n",
        "\n",
        "# print(affected_flights)"
      ],
      "metadata": {
        "id": "n6tkx7NoaOVl"
      },
      "execution_count": 12,
      "outputs": []
    },
    {
      "cell_type": "code",
      "source": [
        "# __________________________________ RULE ENGINE __________________________________\n",
        "\n",
        "MAX_ETD_FROM_IMPACTED_FLIGHT_IN_HOURS = 72\n",
        "MAX_CONNECTION_TIME = 12\n",
        "MIN_CONNECTION_TIME = 1\n",
        "\n",
        "# This reference table can be used for identifying the cabin for each class of service\n",
        "CABIN_CLASS_MAP = {\n",
        "    \"J\": [\"A\", \"D\", \"J\"],\n",
        "    \"F\": [\"F\", \"B\"],\n",
        "    \"Y\": [\"S\", \"V\", \"W\", \"Z\", \"O\", \"S\", \"T\", \"U\", \"M\", \"N\", \"Y\"]\n",
        "}\n",
        "\n",
        "# This will be Used when Original class is not available to rebook\n",
        "CLASS_TO_CLASS_MAP = {\n",
        "    \"A\": [\"F\", \"S\"],\n",
        "    \"S\": [\"F\", \"A\"],\n",
        "    \"F\": [\"S\", \"A\"],\n",
        "    \"J\": [\"O\", \"C\", \"I\"],\n",
        "    \"C\": [\"O\", \"J\", \"I\"],\n",
        "    \"I\": [\"J\", \"C\", \"O\"],\n",
        "    \"O\": [\"J\", \"C\", \"I\"],\n",
        "    \"Y\": [\"B\", \"P\", \"Z\"],\n",
        "    \"B\": [\"Y\", \"P\", \"Z\"],\n",
        "}\n",
        "\n",
        "# 1. This is only applicable if Downgrade is on.\n",
        "# 2. If Downgrade to Cabin J/F then refer to Downgrade class respectively\n",
        "DOWNGRADE_CLASS_MAP = {\n",
        "    \"J\": \"Y\",\n",
        "    \"F\": \"Y\",\n",
        "}\n",
        "\n",
        "# 1. This is only applicable if Upgrade is enabled.\n",
        "# 2. If Upgraded to Cabin F/J then refer to Upgrade class respectively\n",
        "UPGRADE_CLASS_MAP = {\n",
        "    \"Y\": \"F\",\n",
        "    \"F\": \"J\",\n",
        "}\n",
        "\n",
        "class PNR:\n",
        "    def __init__(self):\n",
        "\n",
        "        self.Recloc = None\n",
        "        self.TYPE = None\n",
        "        self.SSR = None\n",
        "        self.Cabin = None\n",
        "        self.Class = None\n",
        "        self.Number_Of_Down_lineConnections = 0\n",
        "        self.PaidServices = None\n",
        "        self.Booked_As = None\n",
        "        self.Number_of_PAX = None\n",
        "        self.Loyalty = None\n",
        "        self.ForceKickOut = None\n",
        "\n",
        "    def Score(self):\n",
        "\n",
        "        Special_Services = [\"INFT\", \"WHCR\", \"WCHS\", \"WCHC\", \"LANG\", \"CHILD\", \"EXST\", \"BLND\", \"DEAF\"]\n",
        "        total_score = None\n",
        "        self.ForceKickOut = True\n",
        "\n",
        "        # SSR Score\n",
        "        if self.TYPE == \"PNR.INDIVIDUAL\" and self.SSR in Special_Services:\n",
        "            total_score += 200\n",
        "\n",
        "        # Cabin Score\n",
        "        if self.TYPE == \"PNR.INDIVIDUAL\" and self.Cabin:\n",
        "            cabin_score_mapping = {\n",
        "                \"J\": 2000,\n",
        "                \"F\": 1700,\n",
        "                \"Y\": 1500\n",
        "            }\n",
        "            total_score += cabin_score_mapping.get(self.Cabin, 0)\n",
        "\n",
        "        # Class Score\n",
        "        if self.TYPE == \"PNR.INDIVIDUAL\" and self.Class:\n",
        "            class_score_mapping = {\n",
        "                \"A\": 1000,\n",
        "                \"C\": 700,\n",
        "                \"K\": 500,\n",
        "            }\n",
        "            total_score += class_score_mapping.get(self.Class, (0, 0))[0]\n",
        "\n",
        "        # Connection Score\n",
        "        if self.TYPE == \"PNR.INDIVIDUAL\" and self.Number_Of_Down_lineConnections is not None:\n",
        "            total_score += 100 * self.Number_Of_Down_lineConnections\n",
        "\n",
        "        # Paid Service Score\n",
        "        if self.TYPE == \"PNR.INDIVIDUAL\" and self.PaidServices == \"Yes\":\n",
        "            self.ForceKickOut = False\n",
        "            total_score += 200\n",
        "\n",
        "        # Booking-Type Score\n",
        "        if self.TYPE == \"PNR.INDIVIDUAL\" and self.Booked_As == \"Group\":\n",
        "            self.ForceKickOut = False\n",
        "            total_score += 500\n",
        "\n",
        "        # No of PAX Score\n",
        "        if self.TYPE == \"PNR.INDIVIDUAL\" and self.Number_of_PAX is not None:\n",
        "            self.ForceKickOut = False\n",
        "            total_score += 50 * self.Number_of_PAX\n"
      ],
      "metadata": {
        "id": "HFpPli5BNb6l"
      },
      "execution_count": 13,
      "outputs": []
    },
    {
      "cell_type": "code",
      "source": [
        "def get_affected_pnrb (table_name):\n",
        "\n",
        "  connection = sqlite3.connect(DATABASE)\n",
        "  cursor = connection.cursor()\n",
        "\n",
        "  sql_search_query = f'''\n",
        "  SELECT * FROM {table_name}\n",
        "  '''\n",
        "\n",
        "  cursor.execute(sql_search_query)\n",
        "  results = cursor.fetchall()\n",
        "\n",
        "  connection.commit()\n",
        "  connection.close()\n",
        "  return results"
      ],
      "metadata": {
        "id": "ETC60qZ4bAxd"
      },
      "execution_count": 14,
      "outputs": []
    },
    {
      "cell_type": "code",
      "source": [
        "flights = list(affected_flights.keys())\n",
        "for flight in flights:\n",
        "  flight_data = get_affected_pnrb(flight.replace('-', '_'))\n",
        "  print(flight_data)"
      ],
      "metadata": {
        "colab": {
          "base_uri": "https://localhost:8080/"
        },
        "id": "g6IbqeS0eYeg",
        "outputId": "9b900bd3-4224-48eb-922e-ae3179cab03b"
      },
      "execution_count": 15,
      "outputs": [
        {
          "output_type": "stream",
          "name": "stdout",
          "text": [
            "[('DRGS80', '3/2/2024 16:35', 'ZZ20240403BLRCCU2504', 'GN', 'FirstClass', '1', '4', '3', 'ZZ', '2504', 'BLR', 'CCU', '4/3/2024', '4/3/2024 15:35', '4/3/2024 18:17', '4/3/2024 10:05', '4/3/2024 12:47'), ('YEZQ47', '3/2/2024 16:35', 'ZZ20240403BLRCCU2504', 'GN', 'FirstClass', '1', '2', '4', 'ZZ', '2504', 'BLR', 'CCU', '4/3/2024', '4/3/2024 15:35', '4/3/2024 18:17', '4/3/2024 10:05', '4/3/2024 12:47'), ('JDDM40', '3/2/2024 16:35', 'ZZ20240403BLRCCU2504', 'GN', 'FirstClass', '1', '3', '2', 'ZZ', '2504', 'BLR', 'CCU', '4/3/2024', '4/3/2024 15:35', '4/3/2024 18:17', '4/3/2024 10:05', '4/3/2024 12:47'), ('AVFF16', '3/2/2024 16:35', 'ZZ20240403BLRCCU2504', 'GN', 'FirstClass', '1', '4', '1', 'ZZ', '2504', 'BLR', 'CCU', '4/3/2024', '4/3/2024 15:35', '4/3/2024 18:17', '4/3/2024 10:05', '4/3/2024 12:47'), ('DBLE79', '3/2/2024 16:35', 'ZZ20240403BLRCCU2504', 'GN', 'FirstClass', '1', '2', '2', 'ZZ', '2504', 'BLR', 'CCU', '4/3/2024', '4/3/2024 15:35', '4/3/2024 18:17', '4/3/2024 10:05', '4/3/2024 12:47'), ('HBRA44', '3/2/2024 16:35', 'ZZ20240403BLRCCU2504', 'GN', 'FirstClass', '1', '3', '4', 'ZZ', '2504', 'BLR', 'CCU', '4/3/2024', '4/3/2024 15:35', '4/3/2024 18:17', '4/3/2024 10:05', '4/3/2024 12:47'), ('EOWG16', '3/2/2024 16:35', 'ZZ20240403BLRCCU2504', 'GN', 'FirstClass', '1', '1', '2', 'ZZ', '2504', 'BLR', 'CCU', '4/3/2024', '4/3/2024 15:35', '4/3/2024 18:17', '4/3/2024 10:05', '4/3/2024 12:47'), ('AVDY52', '3/2/2024 16:35', 'ZZ20240403BLRCCU2504', 'GN', 'FirstClass', '1', '3', '4', 'ZZ', '2504', 'BLR', 'CCU', '4/3/2024', '4/3/2024 15:35', '4/3/2024 18:17', '4/3/2024 10:05', '4/3/2024 12:47'), ('XKCU70', '3/2/2024 16:35', 'ZZ20240403BLRCCU2504', 'GN', 'FirstClass', '1', '4', '1', 'ZZ', '2504', 'BLR', 'CCU', '4/3/2024', '4/3/2024 15:35', '4/3/2024 18:17', '4/3/2024 10:05', '4/3/2024 12:47'), ('TOGO39', '3/2/2024 16:35', 'ZZ20240403BLRCCU2504', 'GN', 'FirstClass', '1', '4', '4', 'ZZ', '2504', 'BLR', 'CCU', '4/3/2024', '4/3/2024 15:35', '4/3/2024 18:17', '4/3/2024 10:05', '4/3/2024 12:47'), ('POTO89', '3/2/2024 16:35', 'ZZ20240403BLRCCU2504', 'GN', 'FirstClass', '1', '2', '2', 'ZZ', '2504', 'BLR', 'CCU', '4/3/2024', '4/3/2024 15:35', '4/3/2024 18:17', '4/3/2024 10:05', '4/3/2024 12:47'), ('XJFX88', '3/2/2024 16:35', 'ZZ20240403BLRCCU2504', 'GN', 'FirstClass', '1', '2', '1', 'ZZ', '2504', 'BLR', 'CCU', '4/3/2024', '4/3/2024 15:35', '4/3/2024 18:17', '4/3/2024 10:05', '4/3/2024 12:47'), ('QUEI19', '3/2/2024 16:35', 'ZZ20240403BLRCCU2504', 'GN', 'BusinessClass', '1', '2', '1', 'ZZ', '2504', 'BLR', 'CCU', '4/3/2024', '4/3/2024 15:35', '4/3/2024 18:17', '4/3/2024 10:05', '4/3/2024 12:47'), ('JUZT15', '3/2/2024 16:35', 'ZZ20240403BLRCCU2504', 'GN', 'BusinessClass', '1', '3', '3', 'ZZ', '2504', 'BLR', 'CCU', '4/3/2024', '4/3/2024 15:35', '4/3/2024 18:17', '4/3/2024 10:05', '4/3/2024 12:47'), ('TLLK58', '3/2/2024 16:35', 'ZZ20240403BLRCCU2504', 'GN', 'BusinessClass', '1', '1', '2', 'ZZ', '2504', 'BLR', 'CCU', '4/3/2024', '4/3/2024 15:35', '4/3/2024 18:17', '4/3/2024 10:05', '4/3/2024 12:47'), ('KQWI29', '3/2/2024 16:35', 'ZZ20240403BLRCCU2504', 'GN', 'BusinessClass', '1', '1', '3', 'ZZ', '2504', 'BLR', 'CCU', '4/3/2024', '4/3/2024 15:35', '4/3/2024 18:17', '4/3/2024 10:05', '4/3/2024 12:47'), ('BDAS92', '3/2/2024 16:35', 'ZZ20240403BLRCCU2504', 'GN', 'BusinessClass', '1', '4', '2', 'ZZ', '2504', 'BLR', 'CCU', '4/3/2024', '4/3/2024 15:35', '4/3/2024 18:17', '4/3/2024 10:05', '4/3/2024 12:47'), ('OVDO22', '3/2/2024 16:35', 'ZZ20240403BLRCCU2504', 'GN', 'BusinessClass', '1', '1', '1', 'ZZ', '2504', 'BLR', 'CCU', '4/3/2024', '4/3/2024 15:35', '4/3/2024 18:17', '4/3/2024 10:05', '4/3/2024 12:47'), ('QBAH49', '3/2/2024 16:35', 'ZZ20240403BLRCCU2504', 'GN', 'BusinessClass', '1', '2', '2', 'ZZ', '2504', 'BLR', 'CCU', '4/3/2024', '4/3/2024 15:35', '4/3/2024 18:17', '4/3/2024 10:05', '4/3/2024 12:47'), ('GXMB60', '3/2/2024 16:35', 'ZZ20240403BLRCCU2504', 'GN', 'BusinessClass', '1', '4', '2', 'ZZ', '2504', 'BLR', 'CCU', '4/3/2024', '4/3/2024 15:35', '4/3/2024 18:17', '4/3/2024 10:05', '4/3/2024 12:47'), ('TEGC26', '3/2/2024 16:35', 'ZZ20240403BLRCCU2504', 'GN', 'BusinessClass', '1', '1', '1', 'ZZ', '2504', 'BLR', 'CCU', '4/3/2024', '4/3/2024 15:35', '4/3/2024 18:17', '4/3/2024 10:05', '4/3/2024 12:47'), ('PPCF80', '3/2/2024 16:35', 'ZZ20240403BLRCCU2504', 'GN', 'BusinessClass', '1', '1', '4', 'ZZ', '2504', 'BLR', 'CCU', '4/3/2024', '4/3/2024 15:35', '4/3/2024 18:17', '4/3/2024 10:05', '4/3/2024 12:47'), ('KCKH36', '3/2/2024 16:35', 'ZZ20240403BLRCCU2504', 'GN', 'BusinessClass', '1', '2', '3', 'ZZ', '2504', 'BLR', 'CCU', '4/3/2024', '4/3/2024 15:35', '4/3/2024 18:17', '4/3/2024 10:05', '4/3/2024 12:47'), ('YFWB74', '3/2/2024 16:35', 'ZZ20240403BLRCCU2504', 'GN', 'BusinessClass', '1', '4', '1', 'ZZ', '2504', 'BLR', 'CCU', '4/3/2024', '4/3/2024 15:35', '4/3/2024 18:17', '4/3/2024 10:05', '4/3/2024 12:47'), ('IDKP89', '3/2/2024 16:35', 'ZZ20240403BLRCCU2504', 'GN', 'BusinessClass', '1', '2', '2', 'ZZ', '2504', 'BLR', 'CCU', '4/3/2024', '4/3/2024 15:35', '4/3/2024 18:17', '4/3/2024 10:05', '4/3/2024 12:47'), ('IVMW62', '3/2/2024 16:35', 'ZZ20240403BLRCCU2504', 'GN', 'BusinessClass', '1', '2', '4', 'ZZ', '2504', 'BLR', 'CCU', '4/3/2024', '4/3/2024 15:35', '4/3/2024 18:17', '4/3/2024 10:05', '4/3/2024 12:47'), ('QQHE41', '3/2/2024 16:35', 'ZZ20240403BLRCCU2504', 'GN', 'BusinessClass', '1', '3', '1', 'ZZ', '2504', 'BLR', 'CCU', '4/3/2024', '4/3/2024 15:35', '4/3/2024 18:17', '4/3/2024 10:05', '4/3/2024 12:47'), ('TOTV90', '3/2/2024 16:35', 'ZZ20240403BLRCCU2504', 'GN', 'BusinessClass', '1', '4', '3', 'ZZ', '2504', 'BLR', 'CCU', '4/3/2024', '4/3/2024 15:35', '4/3/2024 18:17', '4/3/2024 10:05', '4/3/2024 12:47'), ('KSMX61', '3/2/2024 16:35', 'ZZ20240403BLRCCU2504', 'GN', 'BusinessClass', '1', '2', '3', 'ZZ', '2504', 'BLR', 'CCU', '4/3/2024', '4/3/2024 15:35', '4/3/2024 18:17', '4/3/2024 10:05', '4/3/2024 12:47'), ('AMQB16', '3/2/2024 16:35', 'ZZ20240403BLRCCU2504', 'GN', 'BusinessClass', '1', '2', '1', 'ZZ', '2504', 'BLR', 'CCU', '4/3/2024', '4/3/2024 15:35', '4/3/2024 18:17', '4/3/2024 10:05', '4/3/2024 12:47'), ('YNIO33', '3/2/2024 16:35', 'ZZ20240403BLRCCU2504', 'GN', 'BusinessClass', '1', '3', '3', 'ZZ', '2504', 'BLR', 'CCU', '4/3/2024', '4/3/2024 15:35', '4/3/2024 18:17', '4/3/2024 10:05', '4/3/2024 12:47'), ('HEAC23', '3/2/2024 16:35', 'ZZ20240403BLRCCU2504', 'GN', 'BusinessClass', '1', '4', '1', 'ZZ', '2504', 'BLR', 'CCU', '4/3/2024', '4/3/2024 15:35', '4/3/2024 18:17', '4/3/2024 10:05', '4/3/2024 12:47'), ('GSNF55', '3/2/2024 16:35', 'ZZ20240403BLRCCU2504', 'GN', 'BusinessClass', '1', '4', '2', 'ZZ', '2504', 'BLR', 'CCU', '4/3/2024', '4/3/2024 15:35', '4/3/2024 18:17', '4/3/2024 10:05', '4/3/2024 12:47'), ('IFAV65', '3/2/2024 16:35', 'ZZ20240403BLRCCU2504', 'GN', 'BusinessClass', '1', '3', '2', 'ZZ', '2504', 'BLR', 'CCU', '4/3/2024', '4/3/2024 15:35', '4/3/2024 18:17', '4/3/2024 10:05', '4/3/2024 12:47'), ('GGAN78', '3/2/2024 16:35', 'ZZ20240403BLRCCU2504', 'GN', 'BusinessClass', '1', '3', '2', 'ZZ', '2504', 'BLR', 'CCU', '4/3/2024', '4/3/2024 15:35', '4/3/2024 18:17', '4/3/2024 10:05', '4/3/2024 12:47'), ('XSWO67', '3/2/2024 16:35', 'ZZ20240403BLRCCU2504', 'GN', 'BusinessClass', '1', '4', '3', 'ZZ', '2504', 'BLR', 'CCU', '4/3/2024', '4/3/2024 15:35', '4/3/2024 18:17', '4/3/2024 10:05', '4/3/2024 12:47'), ('IMFV13', '3/2/2024 16:35', 'ZZ20240403BLRCCU2504', 'GN', 'BusinessClass', '1', '1', '3', 'ZZ', '2504', 'BLR', 'CCU', '4/3/2024', '4/3/2024 15:35', '4/3/2024 18:17', '4/3/2024 10:05', '4/3/2024 12:47'), ('QGEY16', '3/2/2024 16:35', 'ZZ20240403BLRCCU2504', 'GN', 'BusinessClass', '1', '4', '1', 'ZZ', '2504', 'BLR', 'CCU', '4/3/2024', '4/3/2024 15:35', '4/3/2024 18:17', '4/3/2024 10:05', '4/3/2024 12:47'), ('RIPG36', '3/2/2024 16:35', 'ZZ20240403BLRCCU2504', 'GN', 'BusinessClass', '1', '4', '2', 'ZZ', '2504', 'BLR', 'CCU', '4/3/2024', '4/3/2024 15:35', '4/3/2024 18:17', '4/3/2024 10:05', '4/3/2024 12:47'), ('ZGKM38', '3/2/2024 16:35', 'ZZ20240403BLRCCU2504', 'GN', 'BusinessClass', '1', '3', '1', 'ZZ', '2504', 'BLR', 'CCU', '4/3/2024', '4/3/2024 15:35', '4/3/2024 18:17', '4/3/2024 10:05', '4/3/2024 12:47'), ('ULUB62', '3/2/2024 16:35', 'ZZ20240403BLRCCU2504', 'GN', 'PremiumEconomyClass', '1', '3', '7', 'ZZ', '2504', 'BLR', 'CCU', '4/3/2024', '4/3/2024 15:35', '4/3/2024 18:17', '4/3/2024 10:05', '4/3/2024 12:47'), ('VNQB23', '3/2/2024 16:35', 'ZZ20240403BLRCCU2504', 'GN', 'PremiumEconomyClass', '1', '2', '6', 'ZZ', '2504', 'BLR', 'CCU', '4/3/2024', '4/3/2024 15:35', '4/3/2024 18:17', '4/3/2024 10:05', '4/3/2024 12:47'), ('HEZE51', '3/2/2024 16:35', 'ZZ20240403BLRCCU2504', 'GN', 'PremiumEconomyClass', '1', '2', '2', 'ZZ', '2504', 'BLR', 'CCU', '4/3/2024', '4/3/2024 15:35', '4/3/2024 18:17', '4/3/2024 10:05', '4/3/2024 12:47'), ('YIFV78', '3/2/2024 16:35', 'ZZ20240403BLRCCU2504', 'GN', 'PremiumEconomyClass', '1', '2', '6', 'ZZ', '2504', 'BLR', 'CCU', '4/3/2024', '4/3/2024 15:35', '4/3/2024 18:17', '4/3/2024 10:05', '4/3/2024 12:47'), ('PLBA60', '3/2/2024 16:35', 'ZZ20240403BLRCCU2504', 'GN', 'PremiumEconomyClass', '1', '4', '5', 'ZZ', '2504', 'BLR', 'CCU', '4/3/2024', '4/3/2024 15:35', '4/3/2024 18:17', '4/3/2024 10:05', '4/3/2024 12:47'), ('EZNC46', '3/2/2024 16:35', 'ZZ20240403BLRCCU2504', 'GN', 'PremiumEconomyClass', '1', '1', '6', 'ZZ', '2504', 'BLR', 'CCU', '4/3/2024', '4/3/2024 15:35', '4/3/2024 18:17', '4/3/2024 10:05', '4/3/2024 12:47'), ('KQGN35', '3/2/2024 16:35', 'ZZ20240403BLRCCU2504', 'GN', 'PremiumEconomyClass', '1', '4', '1', 'ZZ', '2504', 'BLR', 'CCU', '4/3/2024', '4/3/2024 15:35', '4/3/2024 18:17', '4/3/2024 10:05', '4/3/2024 12:47'), ('MOSR40', '3/2/2024 16:35', 'ZZ20240403BLRCCU2504', 'GN', 'PremiumEconomyClass', '1', '2', '3', 'ZZ', '2504', 'BLR', 'CCU', '4/3/2024', '4/3/2024 15:35', '4/3/2024 18:17', '4/3/2024 10:05', '4/3/2024 12:47'), ('DGYQ98', '3/2/2024 16:35', 'ZZ20240403BLRCCU2504', 'GN', 'PremiumEconomyClass', '1', '2', '4', 'ZZ', '2504', 'BLR', 'CCU', '4/3/2024', '4/3/2024 15:35', '4/3/2024 18:17', '4/3/2024 10:05', '4/3/2024 12:47'), ('KGRP58', '3/2/2024 16:35', 'ZZ20240403BLRCCU2504', 'GN', 'PremiumEconomyClass', '1', '2', '8', 'ZZ', '2504', 'BLR', 'CCU', '4/3/2024', '4/3/2024 15:35', '4/3/2024 18:17', '4/3/2024 10:05', '4/3/2024 12:47'), ('ICGG16', '3/2/2024 16:35', 'ZZ20240403BLRCCU2504', 'GN', 'PremiumEconomyClass', '1', '2', '7', 'ZZ', '2504', 'BLR', 'CCU', '4/3/2024', '4/3/2024 15:35', '4/3/2024 18:17', '4/3/2024 10:05', '4/3/2024 12:47'), ('BCNL96', '3/2/2024 16:35', 'ZZ20240403BLRCCU2504', 'GN', 'PremiumEconomyClass', '1', '4', '4', 'ZZ', '2504', 'BLR', 'CCU', '4/3/2024', '4/3/2024 15:35', '4/3/2024 18:17', '4/3/2024 10:05', '4/3/2024 12:47'), ('EKEH36', '3/2/2024 16:35', 'ZZ20240403BLRCCU2504', 'GN', 'PremiumEconomyClass', '1', '3', '4', 'ZZ', '2504', 'BLR', 'CCU', '4/3/2024', '4/3/2024 15:35', '4/3/2024 18:17', '4/3/2024 10:05', '4/3/2024 12:47'), ('RXZR18', '3/2/2024 16:35', 'ZZ20240403BLRCCU2504', 'GN', 'PremiumEconomyClass', '1', '3', '7', 'ZZ', '2504', 'BLR', 'CCU', '4/3/2024', '4/3/2024 15:35', '4/3/2024 18:17', '4/3/2024 10:05', '4/3/2024 12:47'), ('SSSR33', '3/2/2024 16:35', 'ZZ20240403BLRCCU2504', 'GN', 'PremiumEconomyClass', '1', '1', '6', 'ZZ', '2504', 'BLR', 'CCU', '4/3/2024', '4/3/2024 15:35', '4/3/2024 18:17', '4/3/2024 10:05', '4/3/2024 12:47'), ('UPIA63', '3/2/2024 16:35', 'ZZ20240403BLRCCU2504', 'GN', 'PremiumEconomyClass', '1', '4', '9', 'ZZ', '2504', 'BLR', 'CCU', '4/3/2024', '4/3/2024 15:35', '4/3/2024 18:17', '4/3/2024 10:05', '4/3/2024 12:47'), ('IACJ88', '3/2/2024 16:35', 'ZZ20240403BLRCCU2504', 'GN', 'PremiumEconomyClass', '1', '3', '1', 'ZZ', '2504', 'BLR', 'CCU', '4/3/2024', '4/3/2024 15:35', '4/3/2024 18:17', '4/3/2024 10:05', '4/3/2024 12:47'), ('ALFX16', '3/2/2024 16:35', 'ZZ20240403BLRCCU2504', 'GN', 'PremiumEconomyClass', '1', '4', '1', 'ZZ', '2504', 'BLR', 'CCU', '4/3/2024', '4/3/2024 15:35', '4/3/2024 18:17', '4/3/2024 10:05', '4/3/2024 12:47'), ('GINH77', '3/2/2024 16:35', 'ZZ20240403BLRCCU2504', 'GN', 'EconomyClass', '1', '4', '1', 'ZZ', '2504', 'BLR', 'CCU', '4/3/2024', '4/3/2024 15:35', '4/3/2024 18:17', '4/3/2024 10:05', '4/3/2024 12:47'), ('ZVRJ34', '3/2/2024 16:35', 'ZZ20240403BLRCCU2504', 'GN', 'EconomyClass', '1', '2', '7', 'ZZ', '2504', 'BLR', 'CCU', '4/3/2024', '4/3/2024 15:35', '4/3/2024 18:17', '4/3/2024 10:05', '4/3/2024 12:47'), ('XLXS10', '3/2/2024 16:35', 'ZZ20240403BLRCCU2504', 'GN', 'EconomyClass', '1', '2', '9', 'ZZ', '2504', 'BLR', 'CCU', '4/3/2024', '4/3/2024 15:35', '4/3/2024 18:17', '4/3/2024 10:05', '4/3/2024 12:47'), ('UZLE88', '3/2/2024 16:35', 'ZZ20240403BLRCCU2504', 'GN', 'EconomyClass', '1', '2', '9', 'ZZ', '2504', 'BLR', 'CCU', '4/3/2024', '4/3/2024 15:35', '4/3/2024 18:17', '4/3/2024 10:05', '4/3/2024 12:47'), ('DMDN53', '3/2/2024 16:35', 'ZZ20240403BLRCCU2504', 'GN', 'EconomyClass', '1', '1', '5', 'ZZ', '2504', 'BLR', 'CCU', '4/3/2024', '4/3/2024 15:35', '4/3/2024 18:17', '4/3/2024 10:05', '4/3/2024 12:47'), ('MCRL39', '3/2/2024 16:35', 'ZZ20240403BLRCCU2504', 'GN', 'EconomyClass', '1', '2', '5', 'ZZ', '2504', 'BLR', 'CCU', '4/3/2024', '4/3/2024 15:35', '4/3/2024 18:17', '4/3/2024 10:05', '4/3/2024 12:47'), ('CILY58', '3/2/2024 16:35', 'ZZ20240403BLRCCU2504', 'GN', 'EconomyClass', '1', '4', '3', 'ZZ', '2504', 'BLR', 'CCU', '4/3/2024', '4/3/2024 15:35', '4/3/2024 18:17', '4/3/2024 10:05', '4/3/2024 12:47'), ('ZZSK50', '3/2/2024 16:35', 'ZZ20240403BLRCCU2504', 'GN', 'EconomyClass', '1', '1', '9', 'ZZ', '2504', 'BLR', 'CCU', '4/3/2024', '4/3/2024 15:35', '4/3/2024 18:17', '4/3/2024 10:05', '4/3/2024 12:47'), ('TTQZ53', '3/2/2024 16:35', 'ZZ20240403BLRCCU2504', 'GN', 'EconomyClass', '1', '2', '4', 'ZZ', '2504', 'BLR', 'CCU', '4/3/2024', '4/3/2024 15:35', '4/3/2024 18:17', '4/3/2024 10:05', '4/3/2024 12:47'), ('LWKR14', '3/2/2024 16:35', 'ZZ20240403BLRCCU2504', 'GN', 'EconomyClass', '1', '4', '8', 'ZZ', '2504', 'BLR', 'CCU', '4/3/2024', '4/3/2024 15:35', '4/3/2024 18:17', '4/3/2024 10:05', '4/3/2024 12:47'), ('IBHN38', '3/2/2024 16:35', 'ZZ20240403BLRCCU2504', 'GN', 'EconomyClass', '1', '3', '6', 'ZZ', '2504', 'BLR', 'CCU', '4/3/2024', '4/3/2024 15:35', '4/3/2024 18:17', '4/3/2024 10:05', '4/3/2024 12:47'), ('KHJW84', '3/2/2024 16:35', 'ZZ20240403BLRCCU2504', 'GN', 'EconomyClass', '1', '1', '5', 'ZZ', '2504', 'BLR', 'CCU', '4/3/2024', '4/3/2024 15:35', '4/3/2024 18:17', '4/3/2024 10:05', '4/3/2024 12:47'), ('ZAJN39', '3/2/2024 16:35', 'ZZ20240403BLRCCU2504', 'GN', 'EconomyClass', '1', '1', '8', 'ZZ', '2504', 'BLR', 'CCU', '4/3/2024', '4/3/2024 15:35', '4/3/2024 18:17', '4/3/2024 10:05', '4/3/2024 12:47'), ('HLGI89', '3/2/2024 16:35', 'ZZ20240403BLRCCU2504', 'GN', 'EconomyClass', '1', '2', '2', 'ZZ', '2504', 'BLR', 'CCU', '4/3/2024', '4/3/2024 15:35', '4/3/2024 18:17', '4/3/2024 10:05', '4/3/2024 12:47'), ('CHYQ86', '3/2/2024 16:35', 'ZZ20240403BLRCCU2504', 'GN', 'EconomyClass', '1', '1', '6', 'ZZ', '2504', 'BLR', 'CCU', '4/3/2024', '4/3/2024 15:35', '4/3/2024 18:17', '4/3/2024 10:05', '4/3/2024 12:47'), ('NAUK86', '3/2/2024 16:35', 'ZZ20240403BLRCCU2504', 'GN', 'EconomyClass', '1', '4', '3', 'ZZ', '2504', 'BLR', 'CCU', '4/3/2024', '4/3/2024 15:35', '4/3/2024 18:17', '4/3/2024 10:05', '4/3/2024 12:47'), ('SVPX92', '3/2/2024 16:35', 'ZZ20240403BLRCCU2504', 'GN', 'EconomyClass', '1', '3', '3', 'ZZ', '2504', 'BLR', 'CCU', '4/3/2024', '4/3/2024 15:35', '4/3/2024 18:17', '4/3/2024 10:05', '4/3/2024 12:47'), ('RTTS90', '3/2/2024 16:35', 'ZZ20240403BLRCCU2504', 'GN', 'EconomyClass', '1', '3', '4', 'ZZ', '2504', 'BLR', 'CCU', '4/3/2024', '4/3/2024 15:35', '4/3/2024 18:17', '4/3/2024 10:05', '4/3/2024 12:47'), ('RIIS28', '3/2/2024 16:35', 'ZZ20240403BLRCCU2504', 'GN', 'EconomyClass', '1', '1', '5', 'ZZ', '2504', 'BLR', 'CCU', '4/3/2024', '4/3/2024 15:35', '4/3/2024 18:17', '4/3/2024 10:05', '4/3/2024 12:47'), ('WJIM84', '3/2/2024 16:35', 'ZZ20240403BLRCCU2504', 'GN', 'EconomyClass', '1', '4', '6', 'ZZ', '2504', 'BLR', 'CCU', '4/3/2024', '4/3/2024 15:35', '4/3/2024 18:17', '4/3/2024 10:05', '4/3/2024 12:47'), ('GYKM90', '3/2/2024 16:35', 'ZZ20240403BLRCCU2504', 'GN', 'EconomyClass', '1', '2', '4', 'ZZ', '2504', 'BLR', 'CCU', '4/3/2024', '4/3/2024 15:35', '4/3/2024 18:17', '4/3/2024 10:05', '4/3/2024 12:47'), ('JGYU67', '3/2/2024 16:35', 'ZZ20240403BLRCCU2504', 'GN', 'EconomyClass', '1', '1', '4', 'ZZ', '2504', 'BLR', 'CCU', '4/3/2024', '4/3/2024 15:35', '4/3/2024 18:17', '4/3/2024 10:05', '4/3/2024 12:47'), ('OQHS47', '3/2/2024 16:35', 'ZZ20240403BLRCCU2504', 'GN', 'EconomyClass', '1', '4', '1', 'ZZ', '2504', 'BLR', 'CCU', '4/3/2024', '4/3/2024 15:35', '4/3/2024 18:17', '4/3/2024 10:05', '4/3/2024 12:47'), ('JMZZ69', '3/2/2024 16:35', 'ZZ20240403BLRCCU2504', 'GN', 'EconomyClass', '1', '4', '1', 'ZZ', '2504', 'BLR', 'CCU', '4/3/2024', '4/3/2024 15:35', '4/3/2024 18:17', '4/3/2024 10:05', '4/3/2024 12:47')]\n",
            "[('KQGN35', '3/2/2024 16:35', 'ZZ20240407HYDAMD3723', 'HL', 'PremiumEconomyClass', '3', '4', '1', 'ZZ', '3723', 'HYD', 'AMD', '4/7/2024', '4/7/2024 20:40', '4/8/2024 12:24', '4/7/2024 15:10', '4/8/2024 6:54'), ('UPIA63', '3/2/2024 16:35', 'ZZ20240407HYDAMD3723', 'GN', 'PremiumEconomyClass', '3', '4', '9', 'ZZ', '3723', 'HYD', 'AMD', '4/7/2024', '4/7/2024 20:40', '4/8/2024 12:24', '4/7/2024 15:10', '4/8/2024 6:54'), ('CILY58', '3/2/2024 16:35', 'ZZ20240407HYDAMD3723', 'HL', 'EconomyClass', '3', '4', '3', 'ZZ', '3723', 'HYD', 'AMD', '4/7/2024', '4/7/2024 20:40', '4/8/2024 12:24', '4/7/2024 15:10', '4/8/2024 6:54'), ('WJIM84', '3/2/2024 16:35', 'ZZ20240407HYDAMD3723', 'GN', 'EconomyClass', '3', '4', '6', 'ZZ', '3723', 'HYD', 'AMD', '4/7/2024', '4/7/2024 20:40', '4/8/2024 12:24', '4/7/2024 15:10', '4/8/2024 6:54'), ('PCQS95', '6/12/2023 11:27', 'ZZ20240407HYDAMD3723', 'HL', 'FirstClass', '3', '4', '3', 'ZZ', '3723', 'HYD', 'AMD', '4/7/2024', '4/7/2024 20:40', '4/8/2024 12:24', '4/7/2024 15:10', '4/8/2024 6:54'), ('HGNG43', '6/12/2023 11:27', 'ZZ20240407HYDAMD3723', 'HL', 'PremiumEconomyClass', '3', '4', '8', 'ZZ', '3723', 'HYD', 'AMD', '4/7/2024', '4/7/2024 20:40', '4/8/2024 12:24', '4/7/2024 15:10', '4/8/2024 6:54'), ('QSZC10', '6/12/2023 11:27', 'ZZ20240407HYDAMD3723', 'XX', 'PremiumEconomyClass', '3', '4', '6', 'ZZ', '3723', 'HYD', 'AMD', '4/7/2024', '4/7/2024 20:40', '4/8/2024 12:24', '4/7/2024 15:10', '4/8/2024 6:54'), ('CBUF90', '6/12/2023 11:27', 'ZZ20240407HYDAMD3723', 'XX', 'EconomyClass', '3', '4', '9', 'ZZ', '3723', 'HYD', 'AMD', '4/7/2024', '4/7/2024 20:40', '4/8/2024 12:24', '4/7/2024 15:10', '4/8/2024 6:54'), ('WNUL54', '10/26/2023 3:45', 'ZZ20240407HYDAMD3723', 'HL', 'PremiumEconomyClass', '2', '3', '2', 'ZZ', '3723', 'HYD', 'AMD', '4/7/2024', '4/7/2024 20:40', '4/8/2024 12:24', '4/7/2024 15:10', '4/8/2024 6:54'), ('CBGE18', '10/26/2023 3:45', 'ZZ20240407HYDAMD3723', 'GN', 'EconomyClass', '2', '4', '7', 'ZZ', '3723', 'HYD', 'AMD', '4/7/2024', '4/7/2024 20:40', '4/8/2024 12:24', '4/7/2024 15:10', '4/8/2024 6:54'), ('FIWK17', '12/19/2023 11:45', 'ZZ20240407CCUHYD3723', 'HK', 'FirstClass', '1', '2', '2', 'ZZ', '3723', 'CCU', 'HYD', '4/7/2024', '4/7/2024 16:19', '4/8/2024 0:54', '4/7/2024 10:49', '4/7/2024 19:24'), ('YNOO86', '12/19/2023 11:45', 'ZZ20240407CCUHYD3723', 'HK', 'FirstClass', '1', '2', '3', 'ZZ', '3723', 'CCU', 'HYD', '4/7/2024', '4/7/2024 16:19', '4/8/2024 0:54', '4/7/2024 10:49', '4/7/2024 19:24'), ('CYZS92', '12/19/2023 11:45', 'ZZ20240407CCUHYD3723', 'HK', 'FirstClass', '1', '2', '3', 'ZZ', '3723', 'CCU', 'HYD', '4/7/2024', '4/7/2024 16:19', '4/8/2024 0:54', '4/7/2024 10:49', '4/7/2024 19:24'), ('EWHL26', '12/19/2023 11:45', 'ZZ20240407CCUHYD3723', 'HK', 'FirstClass', '1', '4', '2', 'ZZ', '3723', 'CCU', 'HYD', '4/7/2024', '4/7/2024 16:19', '4/8/2024 0:54', '4/7/2024 10:49', '4/7/2024 19:24'), ('RZIF77', '12/19/2023 11:45', 'ZZ20240407CCUHYD3723', 'HK', 'FirstClass', '1', '4', '1', 'ZZ', '3723', 'CCU', 'HYD', '4/7/2024', '4/7/2024 16:19', '4/8/2024 0:54', '4/7/2024 10:49', '4/7/2024 19:24'), ('RLIG66', '12/19/2023 11:45', 'ZZ20240407CCUHYD3723', 'HK', 'FirstClass', '1', '2', '1', 'ZZ', '3723', 'CCU', 'HYD', '4/7/2024', '4/7/2024 16:19', '4/8/2024 0:54', '4/7/2024 10:49', '4/7/2024 19:24'), ('TXOU86', '12/19/2023 11:45', 'ZZ20240407CCUHYD3723', 'HK', 'FirstClass', '1', '4', '1', 'ZZ', '3723', 'CCU', 'HYD', '4/7/2024', '4/7/2024 16:19', '4/8/2024 0:54', '4/7/2024 10:49', '4/7/2024 19:24'), ('DSTG56', '12/19/2023 11:45', 'ZZ20240407CCUHYD3723', 'HK', 'FirstClass', '1', '1', '3', 'ZZ', '3723', 'CCU', 'HYD', '4/7/2024', '4/7/2024 16:19', '4/8/2024 0:54', '4/7/2024 10:49', '4/7/2024 19:24'), ('AWRV33', '12/19/2023 11:45', 'ZZ20240407CCUHYD3723', 'HK', 'FirstClass', '1', '2', '2', 'ZZ', '3723', 'CCU', 'HYD', '4/7/2024', '4/7/2024 16:19', '4/8/2024 0:54', '4/7/2024 10:49', '4/7/2024 19:24'), ('PRZV78', '12/19/2023 11:45', 'ZZ20240407CCUHYD3723', 'HK', 'BusinessClass', '1', '4', '1', 'ZZ', '3723', 'CCU', 'HYD', '4/7/2024', '4/7/2024 16:19', '4/8/2024 0:54', '4/7/2024 10:49', '4/7/2024 19:24'), ('BVIS67', '12/19/2023 11:45', 'ZZ20240407CCUHYD3723', 'HK', 'BusinessClass', '1', '1', '1', 'ZZ', '3723', 'CCU', 'HYD', '4/7/2024', '4/7/2024 16:19', '4/8/2024 0:54', '4/7/2024 10:49', '4/7/2024 19:24'), ('ZBBE69', '12/19/2023 11:45', 'ZZ20240407CCUHYD3723', 'HK', 'BusinessClass', '1', '3', '3', 'ZZ', '3723', 'CCU', 'HYD', '4/7/2024', '4/7/2024 16:19', '4/8/2024 0:54', '4/7/2024 10:49', '4/7/2024 19:24'), ('TPNM45', '12/19/2023 11:45', 'ZZ20240407CCUHYD3723', 'HK', 'BusinessClass', '1', '1', '2', 'ZZ', '3723', 'CCU', 'HYD', '4/7/2024', '4/7/2024 16:19', '4/8/2024 0:54', '4/7/2024 10:49', '4/7/2024 19:24'), ('ENGP47', '12/19/2023 11:45', 'ZZ20240407CCUHYD3723', 'HK', 'BusinessClass', '1', '2', '4', 'ZZ', '3723', 'CCU', 'HYD', '4/7/2024', '4/7/2024 16:19', '4/8/2024 0:54', '4/7/2024 10:49', '4/7/2024 19:24'), ('JSSW75', '12/19/2023 11:45', 'ZZ20240407CCUHYD3723', 'HK', 'BusinessClass', '1', '4', '1', 'ZZ', '3723', 'CCU', 'HYD', '4/7/2024', '4/7/2024 16:19', '4/8/2024 0:54', '4/7/2024 10:49', '4/7/2024 19:24'), ('XNYC42', '12/19/2023 11:45', 'ZZ20240407CCUHYD3723', 'HK', 'BusinessClass', '1', '2', '4', 'ZZ', '3723', 'CCU', 'HYD', '4/7/2024', '4/7/2024 16:19', '4/8/2024 0:54', '4/7/2024 10:49', '4/7/2024 19:24'), ('XHTH92', '12/19/2023 11:45', 'ZZ20240407CCUHYD3723', 'HK', 'BusinessClass', '1', '3', '3', 'ZZ', '3723', 'CCU', 'HYD', '4/7/2024', '4/7/2024 16:19', '4/8/2024 0:54', '4/7/2024 10:49', '4/7/2024 19:24'), ('IQRP46', '12/19/2023 11:45', 'ZZ20240407CCUHYD3723', 'HK', 'BusinessClass', '1', '4', '2', 'ZZ', '3723', 'CCU', 'HYD', '4/7/2024', '4/7/2024 16:19', '4/8/2024 0:54', '4/7/2024 10:49', '4/7/2024 19:24'), ('OQNK28', '12/19/2023 11:45', 'ZZ20240407CCUHYD3723', 'HK', 'BusinessClass', '1', '4', '3', 'ZZ', '3723', 'CCU', 'HYD', '4/7/2024', '4/7/2024 16:19', '4/8/2024 0:54', '4/7/2024 10:49', '4/7/2024 19:24'), ('CSYJ15', '12/19/2023 11:45', 'ZZ20240407CCUHYD3723', 'HK', 'BusinessClass', '1', '4', '3', 'ZZ', '3723', 'CCU', 'HYD', '4/7/2024', '4/7/2024 16:19', '4/8/2024 0:54', '4/7/2024 10:49', '4/7/2024 19:24'), ('PGTI57', '12/19/2023 11:45', 'ZZ20240407CCUHYD3723', 'HK', 'BusinessClass', '1', '3', '1', 'ZZ', '3723', 'CCU', 'HYD', '4/7/2024', '4/7/2024 16:19', '4/8/2024 0:54', '4/7/2024 10:49', '4/7/2024 19:24'), ('YHYK92', '12/19/2023 11:45', 'ZZ20240407CCUHYD3723', 'HK', 'BusinessClass', '1', '2', '2', 'ZZ', '3723', 'CCU', 'HYD', '4/7/2024', '4/7/2024 16:19', '4/8/2024 0:54', '4/7/2024 10:49', '4/7/2024 19:24'), ('BHEO91', '12/19/2023 11:45', 'ZZ20240407CCUHYD3723', 'HK', 'BusinessClass', '1', '2', '2', 'ZZ', '3723', 'CCU', 'HYD', '4/7/2024', '4/7/2024 16:19', '4/8/2024 0:54', '4/7/2024 10:49', '4/7/2024 19:24'), ('BKMZ78', '12/19/2023 11:45', 'ZZ20240407CCUHYD3723', 'HK', 'BusinessClass', '1', '2', '3', 'ZZ', '3723', 'CCU', 'HYD', '4/7/2024', '4/7/2024 16:19', '4/8/2024 0:54', '4/7/2024 10:49', '4/7/2024 19:24'), ('OIAL50', '12/19/2023 11:45', 'ZZ20240407CCUHYD3723', 'HK', 'BusinessClass', '1', '4', '1', 'ZZ', '3723', 'CCU', 'HYD', '4/7/2024', '4/7/2024 16:19', '4/8/2024 0:54', '4/7/2024 10:49', '4/7/2024 19:24'), ('RDFT25', '12/19/2023 11:45', 'ZZ20240407CCUHYD3723', 'HK', 'PremiumEconomyClass', '1', '3', '2', 'ZZ', '3723', 'CCU', 'HYD', '4/7/2024', '4/7/2024 16:19', '4/8/2024 0:54', '4/7/2024 10:49', '4/7/2024 19:24'), ('GWVL90', '12/19/2023 11:45', 'ZZ20240407CCUHYD3723', 'HK', 'PremiumEconomyClass', '1', '3', '2', 'ZZ', '3723', 'CCU', 'HYD', '4/7/2024', '4/7/2024 16:19', '4/8/2024 0:54', '4/7/2024 10:49', '4/7/2024 19:24'), ('BQWB76', '12/19/2023 11:45', 'ZZ20240407CCUHYD3723', 'HK', 'PremiumEconomyClass', '1', '2', '8', 'ZZ', '3723', 'CCU', 'HYD', '4/7/2024', '4/7/2024 16:19', '4/8/2024 0:54', '4/7/2024 10:49', '4/7/2024 19:24'), ('MMQX83', '12/19/2023 11:45', 'ZZ20240407CCUHYD3723', 'HK', 'PremiumEconomyClass', '1', '4', '8', 'ZZ', '3723', 'CCU', 'HYD', '4/7/2024', '4/7/2024 16:19', '4/8/2024 0:54', '4/7/2024 10:49', '4/7/2024 19:24'), ('INDQ73', '12/19/2023 11:45', 'ZZ20240407CCUHYD3723', 'HK', 'PremiumEconomyClass', '1', '2', '4', 'ZZ', '3723', 'CCU', 'HYD', '4/7/2024', '4/7/2024 16:19', '4/8/2024 0:54', '4/7/2024 10:49', '4/7/2024 19:24'), ('YYWR78', '12/19/2023 11:45', 'ZZ20240407CCUHYD3723', 'HK', 'PremiumEconomyClass', '1', '3', '7', 'ZZ', '3723', 'CCU', 'HYD', '4/7/2024', '4/7/2024 16:19', '4/8/2024 0:54', '4/7/2024 10:49', '4/7/2024 19:24'), ('XRYM17', '12/19/2023 11:45', 'ZZ20240407CCUHYD3723', 'HK', 'PremiumEconomyClass', '1', '1', '3', 'ZZ', '3723', 'CCU', 'HYD', '4/7/2024', '4/7/2024 16:19', '4/8/2024 0:54', '4/7/2024 10:49', '4/7/2024 19:24'), ('UNWK24', '12/19/2023 11:45', 'ZZ20240407CCUHYD3723', 'HK', 'PremiumEconomyClass', '1', '4', '8', 'ZZ', '3723', 'CCU', 'HYD', '4/7/2024', '4/7/2024 16:19', '4/8/2024 0:54', '4/7/2024 10:49', '4/7/2024 19:24'), ('KYRD23', '12/19/2023 11:45', 'ZZ20240407CCUHYD3723', 'HK', 'PremiumEconomyClass', '1', '3', '7', 'ZZ', '3723', 'CCU', 'HYD', '4/7/2024', '4/7/2024 16:19', '4/8/2024 0:54', '4/7/2024 10:49', '4/7/2024 19:24'), ('VEKK94', '12/19/2023 11:45', 'ZZ20240407CCUHYD3723', 'HK', 'PremiumEconomyClass', '1', '1', '2', 'ZZ', '3723', 'CCU', 'HYD', '4/7/2024', '4/7/2024 16:19', '4/8/2024 0:54', '4/7/2024 10:49', '4/7/2024 19:24'), ('DZOK29', '12/19/2023 11:45', 'ZZ20240407CCUHYD3723', 'HK', 'PremiumEconomyClass', '1', '3', '5', 'ZZ', '3723', 'CCU', 'HYD', '4/7/2024', '4/7/2024 16:19', '4/8/2024 0:54', '4/7/2024 10:49', '4/7/2024 19:24'), ('NRQY32', '12/19/2023 11:45', 'ZZ20240407CCUHYD3723', 'HK', 'EconomyClass', '1', '2', '8', 'ZZ', '3723', 'CCU', 'HYD', '4/7/2024', '4/7/2024 16:19', '4/8/2024 0:54', '4/7/2024 10:49', '4/7/2024 19:24'), ('KPDV51', '12/19/2023 11:45', 'ZZ20240407CCUHYD3723', 'HK', 'EconomyClass', '1', '3', '1', 'ZZ', '3723', 'CCU', 'HYD', '4/7/2024', '4/7/2024 16:19', '4/8/2024 0:54', '4/7/2024 10:49', '4/7/2024 19:24'), ('WHFB89', '12/19/2023 11:45', 'ZZ20240407CCUHYD3723', 'HK', 'EconomyClass', '1', '1', '9', 'ZZ', '3723', 'CCU', 'HYD', '4/7/2024', '4/7/2024 16:19', '4/8/2024 0:54', '4/7/2024 10:49', '4/7/2024 19:24'), ('FQHV12', '12/19/2023 11:45', 'ZZ20240407CCUHYD3723', 'HK', 'EconomyClass', '1', '1', '6', 'ZZ', '3723', 'CCU', 'HYD', '4/7/2024', '4/7/2024 16:19', '4/8/2024 0:54', '4/7/2024 10:49', '4/7/2024 19:24'), ('WSRS40', '12/19/2023 11:45', 'ZZ20240407CCUHYD3723', 'HK', 'EconomyClass', '1', '4', '4', 'ZZ', '3723', 'CCU', 'HYD', '4/7/2024', '4/7/2024 16:19', '4/8/2024 0:54', '4/7/2024 10:49', '4/7/2024 19:24'), ('YTQG90', '12/19/2023 11:45', 'ZZ20240407CCUHYD3723', 'HK', 'EconomyClass', '1', '1', '8', 'ZZ', '3723', 'CCU', 'HYD', '4/7/2024', '4/7/2024 16:19', '4/8/2024 0:54', '4/7/2024 10:49', '4/7/2024 19:24'), ('PWBB62', '12/19/2023 11:45', 'ZZ20240407CCUHYD3723', 'HK', 'EconomyClass', '1', '2', '4', 'ZZ', '3723', 'CCU', 'HYD', '4/7/2024', '4/7/2024 16:19', '4/8/2024 0:54', '4/7/2024 10:49', '4/7/2024 19:24'), ('ZNZK98', '12/19/2023 11:45', 'ZZ20240407CCUHYD3723', 'HK', 'EconomyClass', '1', '4', '3', 'ZZ', '3723', 'CCU', 'HYD', '4/7/2024', '4/7/2024 16:19', '4/8/2024 0:54', '4/7/2024 10:49', '4/7/2024 19:24'), ('GYAY39', '12/19/2023 11:45', 'ZZ20240407CCUHYD3723', 'HK', 'EconomyClass', '1', '4', '7', 'ZZ', '3723', 'CCU', 'HYD', '4/7/2024', '4/7/2024 16:19', '4/8/2024 0:54', '4/7/2024 10:49', '4/7/2024 19:24'), ('YMQG10', '12/19/2023 11:45', 'ZZ20240407CCUHYD3723', 'HK', 'EconomyClass', '1', '4', '4', 'ZZ', '3723', 'CCU', 'HYD', '4/7/2024', '4/7/2024 16:19', '4/8/2024 0:54', '4/7/2024 10:49', '4/7/2024 19:24'), ('BEWY31', '12/19/2023 11:45', 'ZZ20240407CCUHYD3723', 'HK', 'EconomyClass', '1', '2', '4', 'ZZ', '3723', 'CCU', 'HYD', '4/7/2024', '4/7/2024 16:19', '4/8/2024 0:54', '4/7/2024 10:49', '4/7/2024 19:24'), ('YPDQ40', '12/19/2023 11:45', 'ZZ20240407CCUHYD3723', 'HK', 'EconomyClass', '1', '1', '8', 'ZZ', '3723', 'CCU', 'HYD', '4/7/2024', '4/7/2024 16:19', '4/8/2024 0:54', '4/7/2024 10:49', '4/7/2024 19:24'), ('EZMR78', '12/19/2023 11:45', 'ZZ20240407CCUHYD3723', 'HK', 'EconomyClass', '1', '3', '9', 'ZZ', '3723', 'CCU', 'HYD', '4/7/2024', '4/7/2024 16:19', '4/8/2024 0:54', '4/7/2024 10:49', '4/7/2024 19:24'), ('XSUC65', '7/12/2023 18:54', 'ZZ20240407HYDAMD3723', 'XX', 'FirstClass', '1', '2', '1', 'ZZ', '3723', 'HYD', 'AMD', '4/7/2024', '4/7/2024 20:40', '4/8/2024 12:24', '4/7/2024 15:10', '4/8/2024 6:54'), ('UBCO49', '7/12/2023 18:54', 'ZZ20240407HYDAMD3723', 'XX', 'FirstClass', '1', '1', '1', 'ZZ', '3723', 'HYD', 'AMD', '4/7/2024', '4/7/2024 20:40', '4/8/2024 12:24', '4/7/2024 15:10', '4/8/2024 6:54'), ('HYWJ10', '7/12/2023 18:54', 'ZZ20240407HYDAMD3723', 'XX', 'FirstClass', '1', '1', '2', 'ZZ', '3723', 'HYD', 'AMD', '4/7/2024', '4/7/2024 20:40', '4/8/2024 12:24', '4/7/2024 15:10', '4/8/2024 6:54'), ('CBGP90', '7/12/2023 18:54', 'ZZ20240407HYDAMD3723', 'XX', 'FirstClass', '1', '2', '1', 'ZZ', '3723', 'HYD', 'AMD', '4/7/2024', '4/7/2024 20:40', '4/8/2024 12:24', '4/7/2024 15:10', '4/8/2024 6:54'), ('VKXG82', '7/12/2023 18:54', 'ZZ20240407HYDAMD3723', 'XX', 'FirstClass', '1', '4', '2', 'ZZ', '3723', 'HYD', 'AMD', '4/7/2024', '4/7/2024 20:40', '4/8/2024 12:24', '4/7/2024 15:10', '4/8/2024 6:54'), ('IIFH66', '7/12/2023 18:54', 'ZZ20240407HYDAMD3723', 'XX', 'FirstClass', '1', '4', '1', 'ZZ', '3723', 'HYD', 'AMD', '4/7/2024', '4/7/2024 20:40', '4/8/2024 12:24', '4/7/2024 15:10', '4/8/2024 6:54'), ('TRGV45', '7/12/2023 18:54', 'ZZ20240407HYDAMD3723', 'XX', 'FirstClass', '1', '3', '1', 'ZZ', '3723', 'HYD', 'AMD', '4/7/2024', '4/7/2024 20:40', '4/8/2024 12:24', '4/7/2024 15:10', '4/8/2024 6:54'), ('HZKJ39', '7/12/2023 18:54', 'ZZ20240407HYDAMD3723', 'XX', 'BusinessClass', '1', '3', '1', 'ZZ', '3723', 'HYD', 'AMD', '4/7/2024', '4/7/2024 20:40', '4/8/2024 12:24', '4/7/2024 15:10', '4/8/2024 6:54'), ('ZVNM18', '7/12/2023 18:54', 'ZZ20240407HYDAMD3723', 'XX', 'BusinessClass', '1', '4', '2', 'ZZ', '3723', 'HYD', 'AMD', '4/7/2024', '4/7/2024 20:40', '4/8/2024 12:24', '4/7/2024 15:10', '4/8/2024 6:54'), ('XNAE22', '7/12/2023 18:54', 'ZZ20240407HYDAMD3723', 'XX', 'BusinessClass', '1', '4', '3', 'ZZ', '3723', 'HYD', 'AMD', '4/7/2024', '4/7/2024 20:40', '4/8/2024 12:24', '4/7/2024 15:10', '4/8/2024 6:54'), ('SATE10', '7/12/2023 18:54', 'ZZ20240407HYDAMD3723', 'XX', 'BusinessClass', '1', '3', '4', 'ZZ', '3723', 'HYD', 'AMD', '4/7/2024', '4/7/2024 20:40', '4/8/2024 12:24', '4/7/2024 15:10', '4/8/2024 6:54'), ('GZWI48', '7/12/2023 18:54', 'ZZ20240407HYDAMD3723', 'XX', 'BusinessClass', '1', '4', '2', 'ZZ', '3723', 'HYD', 'AMD', '4/7/2024', '4/7/2024 20:40', '4/8/2024 12:24', '4/7/2024 15:10', '4/8/2024 6:54'), ('PGQQ77', '7/12/2023 18:54', 'ZZ20240407HYDAMD3723', 'XX', 'BusinessClass', '1', '2', '2', 'ZZ', '3723', 'HYD', 'AMD', '4/7/2024', '4/7/2024 20:40', '4/8/2024 12:24', '4/7/2024 15:10', '4/8/2024 6:54'), ('TFOA31', '7/12/2023 18:54', 'ZZ20240407HYDAMD3723', 'XX', 'BusinessClass', '1', '2', '1', 'ZZ', '3723', 'HYD', 'AMD', '4/7/2024', '4/7/2024 20:40', '4/8/2024 12:24', '4/7/2024 15:10', '4/8/2024 6:54'), ('SUXT42', '7/12/2023 18:54', 'ZZ20240407HYDAMD3723', 'XX', 'BusinessClass', '1', '4', '3', 'ZZ', '3723', 'HYD', 'AMD', '4/7/2024', '4/7/2024 20:40', '4/8/2024 12:24', '4/7/2024 15:10', '4/8/2024 6:54'), ('BYGN36', '7/12/2023 18:54', 'ZZ20240407HYDAMD3723', 'XX', 'BusinessClass', '1', '3', '2', 'ZZ', '3723', 'HYD', 'AMD', '4/7/2024', '4/7/2024 20:40', '4/8/2024 12:24', '4/7/2024 15:10', '4/8/2024 6:54'), ('SYGQ91', '7/12/2023 18:54', 'ZZ20240407HYDAMD3723', 'XX', 'BusinessClass', '1', '2', '1', 'ZZ', '3723', 'HYD', 'AMD', '4/7/2024', '4/7/2024 20:40', '4/8/2024 12:24', '4/7/2024 15:10', '4/8/2024 6:54'), ('PUYD31', '7/12/2023 18:54', 'ZZ20240407HYDAMD3723', 'XX', 'BusinessClass', '1', '2', '3', 'ZZ', '3723', 'HYD', 'AMD', '4/7/2024', '4/7/2024 20:40', '4/8/2024 12:24', '4/7/2024 15:10', '4/8/2024 6:54'), ('QNXR94', '7/12/2023 18:54', 'ZZ20240407HYDAMD3723', 'XX', 'BusinessClass', '1', '1', '2', 'ZZ', '3723', 'HYD', 'AMD', '4/7/2024', '4/7/2024 20:40', '4/8/2024 12:24', '4/7/2024 15:10', '4/8/2024 6:54'), ('NACN78', '7/12/2023 18:54', 'ZZ20240407HYDAMD3723', 'XX', 'PremiumEconomyClass', '1', '4', '9', 'ZZ', '3723', 'HYD', 'AMD', '4/7/2024', '4/7/2024 20:40', '4/8/2024 12:24', '4/7/2024 15:10', '4/8/2024 6:54'), ('WBTA61', '7/12/2023 18:54', 'ZZ20240407HYDAMD3723', 'XX', 'PremiumEconomyClass', '1', '1', '4', 'ZZ', '3723', 'HYD', 'AMD', '4/7/2024', '4/7/2024 20:40', '4/8/2024 12:24', '4/7/2024 15:10', '4/8/2024 6:54'), ('YFIU24', '7/12/2023 18:54', 'ZZ20240407HYDAMD3723', 'XX', 'EconomyClass', '1', '4', '3', 'ZZ', '3723', 'HYD', 'AMD', '4/7/2024', '4/7/2024 20:40', '4/8/2024 12:24', '4/7/2024 15:10', '4/8/2024 6:54'), ('PJOR40', '7/12/2023 18:54', 'ZZ20240407HYDAMD3723', 'XX', 'EconomyClass', '1', '4', '2', 'ZZ', '3723', 'HYD', 'AMD', '4/7/2024', '4/7/2024 20:40', '4/8/2024 12:24', '4/7/2024 15:10', '4/8/2024 6:54'), ('CYJW84', '7/12/2023 18:54', 'ZZ20240407HYDAMD3723', 'XX', 'EconomyClass', '1', '3', '6', 'ZZ', '3723', 'HYD', 'AMD', '4/7/2024', '4/7/2024 20:40', '4/8/2024 12:24', '4/7/2024 15:10', '4/8/2024 6:54'), ('RKUO87', '7/12/2023 18:54', 'ZZ20240407HYDAMD3723', 'XX', 'EconomyClass', '1', '1', '5', 'ZZ', '3723', 'HYD', 'AMD', '4/7/2024', '4/7/2024 20:40', '4/8/2024 12:24', '4/7/2024 15:10', '4/8/2024 6:54'), ('FBVQ40', '7/12/2023 18:54', 'ZZ20240407HYDAMD3723', 'XX', 'EconomyClass', '1', '2', '8', 'ZZ', '3723', 'HYD', 'AMD', '4/7/2024', '4/7/2024 20:40', '4/8/2024 12:24', '4/7/2024 15:10', '4/8/2024 6:54'), ('WYQQ98', '7/12/2023 18:54', 'ZZ20240407HYDAMD3723', 'XX', 'EconomyClass', '1', '2', '1', 'ZZ', '3723', 'HYD', 'AMD', '4/7/2024', '4/7/2024 20:40', '4/8/2024 12:24', '4/7/2024 15:10', '4/8/2024 6:54')]\n"
          ]
        }
      ]
    }
  ]
}