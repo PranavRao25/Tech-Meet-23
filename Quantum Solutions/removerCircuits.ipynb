{
 "cells": [
  {
   "cell_type": "code",
   "execution_count": 1,
   "metadata": {},
   "outputs": [],
   "source": [
    "import math\n",
    "from qiskit import QuantumCircuit\n",
    "from qiskit.circuit.library import MCXGate"
   ]
  },
  {
   "cell_type": "code",
   "execution_count": 2,
   "metadata": {},
   "outputs": [],
   "source": [
    "def createRemoverCircuits(de,ext,delta)-> list:\n",
    "    removeCircuits=[]\n",
    "    K=(int)(math.ceil(math.log2(delta+1))) # Getting no of bits required to represent delta+1 \n",
    "\n",
    "    ctrl_bits=[de+ext-1-i for i in range(K-1,-1,-1)]+[0]\n",
    "    print(ctrl_bits)\n",
    "    for i in range(delta,-1,-1):\n",
    "        circuit= QuantumCircuit(de+ext) ## Creating new quantum circuit (remover{i})\n",
    "\n",
    "        ## adding control on value of above K elements from value delta to 0 and then appending the remover circuits\n",
    "        for j in range(0,i):\n",
    "            binaryOfj=bin(delta-j)[2:].rjust(K,'0')\n",
    "            circuit.append(MCXGate(num_ctrl_qubits=K,ctrl_state=binaryOfj),ctrl_bits)\n",
    "            circuit=removeAll(circuit,de,ext)\n",
    "\n",
    "        removeCircuits.append(circuit)\n",
    "\n",
    "    return removeCircuits\n",
    "\n",
    "## remover circuit\n",
    "def removeAll(qc:QuantumCircuit,de,ext)-> QuantumCircuit:\n",
    "    for i in range(de):\n",
    "        qc.cswap(0,i+ext,1)\n",
    "        qc.reset(1)\n",
    "\n",
    "    qc.reset(0)\n",
    "    return qc"
   ]
  },
  {
   "cell_type": "code",
   "execution_count": 3,
   "metadata": {},
   "outputs": [
    {
     "name": "stdout",
     "output_type": "stream",
     "text": [
      "[6, 7, 0]\n"
     ]
    },
    {
     "data": {
      "text/html": [
       "<pre style=\"word-wrap: normal;white-space: pre;background: #fff0;line-height: 1.1;font-family: &quot;Courier New&quot;,Courier,monospace\">     ┌───┐                                ┌───┐                                »\n",
       "q_0: ┤ X ├─■───────■───────■───────■──|0>─┤ X ├─■───────■───────■───────■──|0>─»\n",
       "     └─┬─┘ │       │       │       │      └─┬─┘ │       │       │       │      »\n",
       "q_1: ──┼───X──|0>──X──|0>──X──|0>──X──|0>───┼───X──|0>──X──|0>──X──|0>──X──|0>─»\n",
       "       │   │       │       │       │        │   │       │       │       │      »\n",
       "q_2: ──┼───┼───────┼───────┼───────┼────────┼───┼───────┼───────┼───────┼──────»\n",
       "       │   │       │       │       │        │   │       │       │       │      »\n",
       "q_3: ──┼───┼───────┼───────┼───────┼────────┼───┼───────┼───────┼───────┼──────»\n",
       "       │   │       │       │       │        │   │       │       │       │      »\n",
       "q_4: ──┼───X───────┼───────┼───────┼────────┼───X───────┼───────┼───────┼──────»\n",
       "       │           │       │       │        │           │       │       │      »\n",
       "q_5: ──┼───────────X───────┼───────┼────────┼───────────X───────┼───────┼──────»\n",
       "       │                   │       │        │                   │       │      »\n",
       "q_6: ──■───────────────────X───────┼────────o───────────────────X───────┼──────»\n",
       "       │                           │        │                           │      »\n",
       "q_7: ──■───────────────────────────X────────■───────────────────────────X──────»\n",
       "                                                                               »\n",
       "«     ┌───┐                                \n",
       "«q_0: ┤ X ├─■───────■───────■───────■──|0>─\n",
       "«     └─┬─┘ │       │       │       │      \n",
       "«q_1: ──┼───X──|0>──X──|0>──X──|0>──X──|0>─\n",
       "«       │   │       │       │       │      \n",
       "«q_2: ──┼───┼───────┼───────┼───────┼──────\n",
       "«       │   │       │       │       │      \n",
       "«q_3: ──┼───┼───────┼───────┼───────┼──────\n",
       "«       │   │       │       │       │      \n",
       "«q_4: ──┼───X───────┼───────┼───────┼──────\n",
       "«       │           │       │       │      \n",
       "«q_5: ──┼───────────X───────┼───────┼──────\n",
       "«       │                   │       │      \n",
       "«q_6: ──■───────────────────X───────┼──────\n",
       "«       │                           │      \n",
       "«q_7: ──o───────────────────────────X──────\n",
       "«                                          </pre>"
      ],
      "text/plain": [
       "     ┌───┐                                ┌───┐                                »\n",
       "q_0: ┤ X ├─■───────■───────■───────■──|0>─┤ X ├─■───────■───────■───────■──|0>─»\n",
       "     └─┬─┘ │       │       │       │      └─┬─┘ │       │       │       │      »\n",
       "q_1: ──┼───X──|0>──X──|0>──X──|0>──X──|0>───┼───X──|0>──X──|0>──X──|0>──X──|0>─»\n",
       "       │   │       │       │       │        │   │       │       │       │      »\n",
       "q_2: ──┼───┼───────┼───────┼───────┼────────┼───┼───────┼───────┼───────┼──────»\n",
       "       │   │       │       │       │        │   │       │       │       │      »\n",
       "q_3: ──┼───┼───────┼───────┼───────┼────────┼───┼───────┼───────┼───────┼──────»\n",
       "       │   │       │       │       │        │   │       │       │       │      »\n",
       "q_4: ──┼───X───────┼───────┼───────┼────────┼───X───────┼───────┼───────┼──────»\n",
       "       │           │       │       │        │           │       │       │      »\n",
       "q_5: ──┼───────────X───────┼───────┼────────┼───────────X───────┼───────┼──────»\n",
       "       │                   │       │        │                   │       │      »\n",
       "q_6: ──■───────────────────X───────┼────────o───────────────────X───────┼──────»\n",
       "       │                           │        │                           │      »\n",
       "q_7: ──■───────────────────────────X────────■───────────────────────────X──────»\n",
       "                                                                               »\n",
       "«     ┌───┐                                \n",
       "«q_0: ┤ X ├─■───────■───────■───────■──|0>─\n",
       "«     └─┬─┘ │       │       │       │      \n",
       "«q_1: ──┼───X──|0>──X──|0>──X──|0>──X──|0>─\n",
       "«       │   │       │       │       │      \n",
       "«q_2: ──┼───┼───────┼───────┼───────┼──────\n",
       "«       │   │       │       │       │      \n",
       "«q_3: ──┼───┼───────┼───────┼───────┼──────\n",
       "«       │   │       │       │       │      \n",
       "«q_4: ──┼───X───────┼───────┼───────┼──────\n",
       "«       │           │       │       │      \n",
       "«q_5: ──┼───────────X───────┼───────┼──────\n",
       "«       │                   │       │      \n",
       "«q_6: ──■───────────────────X───────┼──────\n",
       "«       │                           │      \n",
       "«q_7: ──o───────────────────────────X──────\n",
       "«                                          "
      ]
     },
     "execution_count": 3,
     "metadata": {},
     "output_type": "execute_result"
    }
   ],
   "source": [
    "createRemoverCircuits(de=4,ext=4,delta=3)[0].draw()"
   ]
  },
  {
   "cell_type": "code",
   "execution_count": null,
   "metadata": {},
   "outputs": [],
   "source": []
  }
 ],
 "metadata": {
  "kernelspec": {
   "display_name": "base",
   "language": "python",
   "name": "python3"
  },
  "language_info": {
   "codemirror_mode": {
    "name": "ipython",
    "version": 3
   },
   "file_extension": ".py",
   "mimetype": "text/x-python",
   "name": "python",
   "nbconvert_exporter": "python",
   "pygments_lexer": "ipython3",
   "version": "3.11.5"
  }
 },
 "nbformat": 4,
 "nbformat_minor": 2
}
